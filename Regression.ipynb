{
 "cells": [
  {
   "cell_type": "markdown",
   "metadata": {
    "tags": []
   },
   "source": [
    "# Import Libraries & Intial x,y"
   ]
  },
  {
   "cell_type": "code",
   "execution_count": 1,
   "metadata": {
    "execution": {
     "iopub.execute_input": "2023-05-24T13:54:04.288605Z",
     "iopub.status.busy": "2023-05-24T13:54:04.286407Z",
     "iopub.status.idle": "2023-05-24T13:54:09.363670Z",
     "shell.execute_reply": "2023-05-24T13:54:09.363670Z",
     "shell.execute_reply.started": "2023-05-24T13:54:04.288605Z"
    },
    "tags": []
   },
   "outputs": [],
   "source": [
    "import pandas as pd\n",
    "import numpy as np\n",
    "import matplotlib.pyplot as plt\n",
    "import seaborn as sns\n",
    "import warnings\n",
    "from sklearn.feature_selection import SelectKBest\n",
    "from sklearn.linear_model import Ridge\n",
    "from sklearn.model_selection import train_test_split\n",
    "from sklearn.preprocessing import StandardScaler\n",
    "from sklearn.preprocessing import MinMaxScaler\n",
    "from sklearn.preprocessing import OneHotEncoder\n",
    "from sklearn.preprocessing import OrdinalEncoder\n",
    "from sklearn.impute import SimpleImputer\n",
    "from sklearn import preprocessing\n",
    "import datetime as dt\n",
    "from numpy.random import randn\n",
    "from numpy.random import seed\n",
    "from scipy.stats import pearsonr\n",
    "from sklearn.linear_model import LogisticRegression\n",
    "from sklearn.feature_selection import f_classif\n",
    "from sklearn.linear_model import LinearRegression\n",
    "from sklearn.preprocessing import PolynomialFeatures\n",
    "from sklearn.feature_selection import VarianceThreshold\n",
    "from sklearn import metrics\n",
    "from sklearn import linear_model\n",
    "from sklearn.metrics import accuracy_score, classification_report\n",
    "from sklearn.metrics import r2_score\n",
    "from sklearn.metrics import mean_squared_error\n",
    "from sklearn.linear_model import Lasso\n",
    "from sklearn.linear_model import Ridge\n",
    "import time as t\n",
    "import os\n",
    "import joblib\n",
    "from sklearn.model_selection import GridSearchCV\n",
    "from sklearn.ensemble import RandomForestClassifier\n",
    "\n",
    "\n",
    "# Read The Data\n",
    "data = pd.read_csv('hotel-regression-dataset.csv')\n",
    "\n",
    "# set X & Y\n",
    "y = data.iloc[:, 16]\n",
    "x = data.iloc[:, 0:16]"
   ]
  },
  {
   "cell_type": "markdown",
   "metadata": {
    "jp-MarkdownHeadingCollapsed": true,
    "tags": []
   },
   "source": [
    "# Split Train_Test & Sentiment Analysis"
   ]
  },
  {
   "cell_type": "code",
   "execution_count": 2,
   "metadata": {
    "execution": {
     "iopub.execute_input": "2023-05-24T13:54:09.363670Z",
     "iopub.status.busy": "2023-05-24T13:54:09.363670Z",
     "iopub.status.idle": "2023-05-24T13:54:09.498167Z",
     "shell.execute_reply": "2023-05-24T13:54:09.496823Z",
     "shell.execute_reply.started": "2023-05-24T13:54:09.363670Z"
    }
   },
   "outputs": [],
   "source": [
    "X_train, X_test, y_train, y_test = train_test_split(x,y, test_size=0.2, random_state=42)"
   ]
  },
  {
   "cell_type": "code",
   "execution_count": 3,
   "metadata": {
    "execution": {
     "iopub.execute_input": "2023-05-24T13:54:09.498167Z",
     "iopub.status.busy": "2023-05-24T13:54:09.498167Z",
     "iopub.status.idle": "2023-05-24T13:54:09.997043Z",
     "shell.execute_reply": "2023-05-24T13:54:09.996953Z",
     "shell.execute_reply.started": "2023-05-24T13:54:09.498167Z"
    }
   },
   "outputs": [],
   "source": [
    "from textblob import TextBlob\n",
    "\n",
    "# Define a function to analyze the sentiment of a sentence\n",
    "def get_sentiment(sentence):\n",
    "    blob = TextBlob(sentence)\n",
    "    return blob.sentiment.polarity\n",
    "\n",
    "# Apply the sentiment analysis function to each row in the positive and negative columns\n",
    "def apply_sentiment(data):\n",
    "    data['positive_sentiment'] = data['Positive_Review'].apply(get_sentiment)\n",
    "    data['negative_sentiment'] = data['Negative_Review'].apply(get_sentiment)\n",
    "    return data"
   ]
  },
  {
   "cell_type": "markdown",
   "metadata": {
    "tags": []
   },
   "source": [
    "# Preprocessing"
   ]
  },
  {
   "cell_type": "markdown",
   "metadata": {
    "tags": []
   },
   "source": [
    "## Missing Vlaues && Endcoding"
   ]
  },
  {
   "cell_type": "code",
   "execution_count": 4,
   "metadata": {
    "execution": {
     "iopub.execute_input": "2023-05-24T13:54:09.998672Z",
     "iopub.status.busy": "2023-05-24T13:54:09.998672Z",
     "iopub.status.idle": "2023-05-24T13:54:10.049547Z",
     "shell.execute_reply": "2023-05-24T13:54:10.048493Z",
     "shell.execute_reply.started": "2023-05-24T13:54:09.998672Z"
    }
   },
   "outputs": [],
   "source": [
    "def split_Review_Date(data):\n",
    "    # split Review_Date\n",
    "    # df = pd.DataFrame()\n",
    "    data['Review_Date'] = pd.to_datetime(data['Review_Date'])\n",
    "    data['Year'] = data['Review_Date'].dt.year\n",
    "    data['Month'] = data['Review_Date'].dt.month\n",
    "    data['Day'] = data['Review_Date'].dt.day\n",
    "    data = data.drop([\"Review_Date\"], axis=1)\n",
    "    return data\n",
    "\n",
    "def split_Tags_days_since(data):\n",
    "    # split Tags\n",
    "    Trip = []\n",
    "    Members = []\n",
    "    Room_Kind = []\n",
    "    Nights = []\n",
    "    the_way_of_submission = []\n",
    "    Tags = list(data['Tags'])\n",
    "    tag = []\n",
    "    days = list(data['days_since_review'])\n",
    "    days_final = []\n",
    "    for i in range(len(Tags)):\n",
    "        Tags[i] = Tags[i].replace(\"[\", \"\")\n",
    "        Tags[i] = Tags[i].replace(\"]\", \"\")\n",
    "        Tags[i] = Tags[i].replace(\"'\", \"\")\n",
    "        tag.append(Tags[i].split(\",\"))\n",
    "        # clean days_since review\n",
    "        days[i] = str(days[i]).replace(\"days\", \"\")\n",
    "        days[i] = str(days[i]).replace(\"day\", \"\")\n",
    "        days_final.append(int(days[i]))\n",
    "    for j in tag:\n",
    "        trip = False\n",
    "        mem = False\n",
    "        room = False\n",
    "        night = False\n",
    "        submission = False\n",
    "        for k in j:\n",
    "            if k.__contains__(\"trip\"):\n",
    "                Trip.append(k)\n",
    "                trip = True\n",
    "            elif k.__contains__('room') or k.__contains__('Room'):\n",
    "                Room_Kind.append(k)\n",
    "                room = True\n",
    "            elif (k.__contains__('Stayed')):\n",
    "                result = ''.join(char for char in k if char.isdigit())\n",
    "                Nights.append(int(result))\n",
    "                night = True\n",
    "            elif k.__contains__('Submitted'):\n",
    "                the_way_of_submission.append(k)\n",
    "                submission = True\n",
    "            elif k.__contains__('Couple') or k.__contains__('Group') or k.__contains__('children') or k.__contains__(\n",
    "                    'traveler'):\n",
    "                Members.append(k)\n",
    "                mem = True\n",
    "        if not trip:\n",
    "            Trip.append('no trip')\n",
    "        if not room:\n",
    "            Room_Kind.append('no room')\n",
    "        if not night:\n",
    "            Nights.append(0)\n",
    "        if not submission:\n",
    "            the_way_of_submission.append('not Submitted')\n",
    "        if not mem:\n",
    "            Members.append('no one')\n",
    "    data['Trip'] = Trip\n",
    "    data['Members'] = Members\n",
    "    data['Room'] = Room_Kind\n",
    "    data['Nights'] = Nights\n",
    "    data['Submission'] = the_way_of_submission\n",
    "    data = data.drop(['Tags'], axis=1)\n",
    "    data['days_since_review'] = days_final\n",
    "    return data\n",
    "\n",
    "def data_cleaning_X_Train(X_train):\n",
    "\n",
    "    X_train['Positive_Review'] = X_train['Positive_Review'].replace('No Positive', np.nan)\n",
    "    X_train['Negative_Review'] = X_train['Negative_Review'].replace('No Negative', np.nan)\n",
    "    \n",
    "    # drop columns with all nan values\n",
    "    X_train = X_train.dropna(axis=1, how=\"all\")\n",
    "    \n",
    "\n",
    "    mean_list = []\n",
    "    mean_list.append(X_train['Average_Score'].mean())\n",
    "    mean_list.append(X_train['Total_Number_of_Reviews'].mean())  # ask\n",
    "    mean_list.append(X_train['lat'].mean())\n",
    "    mean_list.append(X_train['lng'].mean())\n",
    "\n",
    "   \n",
    "    # data with filling missing values (X_train)\n",
    "    X_train = X_train.fillna({'Hotel_Address': 'no address', 'Additional_Number_of_Scoring': 0.0,\n",
    "                              'Review_Date': \"00/00/0000\", 'Average_Score': mean_list[0], 'Hotel_Name': 'no name',\n",
    "                              'Reviewer_Nationality': 'no info', 'Negative_Review': 'positive',\n",
    "                              'Review_Total_Negative_Word_Counts': 0.0, 'Total_Number_of_Reviews': mean_list[1],\n",
    "                              'Positive_Review': 'negative', 'Review_Total_Positive_Word_Counts': 0.0,\n",
    "                              'Total_Number_of_Reviews_Reviewer_Has_Given': 0.0,\n",
    "                              'Tags': \"[' no trip ', ' no ', ' no Room ', ' 0 nights ', 'not Submitted']\",\n",
    "                              'days_since_review': '0 day', 'lat': mean_list[2], 'lng': mean_list[3]}) #, 'Reviewer_Score': 0.0})\n",
    "\n",
    "\n",
    "    # split Review_Date\n",
    "    X_train = split_Review_Date(X_train) # For X_train\n",
    "    \n",
    "    # split Tags\n",
    "    X_train = split_Tags_days_since(X_train) # For X_train\n",
    "    \n",
    "    return X_train,mean_list\n",
    "\n",
    "def data_cleaning_X_Test(X_test,mean_list):\n",
    "\n",
    "    X_test['Positive_Review'] = X_test['Positive_Review'].replace('No Positive', np.nan)\n",
    "    X_test['Negative_Review'] = X_test['Negative_Review'].replace('No Negative', np.nan)\n",
    "    \n",
    "\n",
    "    # drop columns with all nan values\n",
    "    X_test = X_test.dropna(axis=1, how=\"all\")\n",
    "    \n",
    "    \n",
    "    # data with filling missing values (X_test)\n",
    "    X_test = X_test.fillna({'Hotel_Address': 'no address', 'Additional_Number_of_Scoring': 0.0,\n",
    "                            'Review_Date': \"00/00/0000\", 'Average_Score': mean_list[0], 'Hotel_Name': 'no name',\n",
    "                            'Reviewer_Nationality': 'no info', 'Negative_Review': 'positive',\n",
    "                            'Review_Total_Negative_Word_Counts': 0.0, 'Total_Number_of_Reviews': mean_list[1],\n",
    "                            'Positive_Review': 'negative', 'Review_Total_Positive_Word_Counts': 0.0,\n",
    "                            'Total_Number_of_Reviews_Reviewer_Has_Given': 0.0,\n",
    "                            'Tags': \"[' no trip ', ' no ', ' no Room ', ' 0 nights ', 'not Submitted']\",\n",
    "                            'days_since_review': '0 day', 'lat': mean_list[2], 'lng': mean_list[3]}) #, 'Reviewer_Score': 0.0})\n",
    "\n",
    "\n",
    "    # split Review_Date\n",
    "    X_test = split_Review_Date(X_test) # For X_train\n",
    "    \n",
    "    # split Tags\n",
    "    X_test = split_Tags_days_since(X_test) # For X_train\n",
    "    \n",
    "    return X_test\n",
    "\n",
    "# Handle The Missing Values In The Reviewer_Score With Tec: Predictive imputation\n",
    "\n",
    "def data_cleaning_Y_Train(y_train):\n",
    "    \n",
    "    mean = y_train.mean()\n",
    "    y_train = y_train.fillna({'Reviewer_Score': mean})\n",
    "    \n",
    "    return y_train , mean\n",
    "\n",
    "def data_cleaning_Y_Test(y_test, mean):\n",
    "    \n",
    "    y_test = y_test.fillna({'Reviewer_Score': mean})\n",
    "        \n",
    "    return y_test\n",
    "\n",
    "\n",
    "from collections import defaultdict\n",
    "class Label_Encoder:\n",
    "        def __init__(self):\n",
    "            self.label_dict = defaultdict(int)\n",
    "            self.label_count = 0\n",
    "\n",
    "        def Fit_Or_Transform(self,labels):\n",
    "            \n",
    "            transformed = np.zeros(len(labels), dtype=int)\n",
    "\n",
    "            for i, label in enumerate(labels):\n",
    "                if label in self.label_dict:\n",
    "                    transformed[i] = self.label_dict[label]\n",
    "                else:\n",
    "                    self.label_dict[label] = self.label_count\n",
    "                    self.label_count += 1\n",
    "                    transformed[i] = self.label_dict[label]\n",
    "\n",
    "            return transformed\n",
    "\n",
    "\n",
    "\n",
    "def data_encoding_X_Train(X_train):\n",
    "    # Creating a instance of label Encoder.\n",
    "    le = Label_Encoder()\n",
    "    # printing label For (X_train) \"Fit\" and \"Transform\"\n",
    "    X_train['Hotel_Name'] = le.Fit_Or_Transform(X_train['Hotel_Name'])\n",
    "    X_train['Hotel_Address'] = le.Fit_Or_Transform(X_train['Hotel_Address'])\n",
    "    X_train['Reviewer_Nationality'] = le.Fit_Or_Transform(X_train['Reviewer_Nationality'])\n",
    "    X_train['Trip'] = le.Fit_Or_Transform(X_train['Trip'])\n",
    "    X_train['Members'] = le.Fit_Or_Transform(X_train['Members'])\n",
    "    X_train['Submission'] = le.Fit_Or_Transform(X_train['Submission'])\n",
    "    X_train['Room'] = le.Fit_Or_Transform(X_train['Room'])\n",
    "    \n",
    "    return X_train,le\n",
    "\n",
    "    \n",
    "def data_encoding_X_Test(X_test,le):\n",
    "\n",
    "    # printing label For (X_test) \"Already Fitted\" just \"Transform\"\n",
    "    X_test['Hotel_Name'] = le.Fit_Or_Transform(X_test['Hotel_Name'])\n",
    "    X_test['Hotel_Address'] = le.Fit_Or_Transform(X_test['Hotel_Address'])\n",
    "    X_test['Reviewer_Nationality'] = le.Fit_Or_Transform(X_test['Reviewer_Nationality'])\n",
    "    X_test['Trip'] = le.Fit_Or_Transform(X_test['Trip'])\n",
    "    X_test['Members'] = le.Fit_Or_Transform(X_test['Members'])\n",
    "    X_test['Submission'] = le.Fit_Or_Transform(X_test['Submission'])\n",
    "    X_test['Room'] = le.Fit_Or_Transform(X_test['Room'])\n",
    "\n",
    "    return X_test\n",
    "\n",
    "def data_encoding_Y_Train(y_train):\n",
    "    #the predict Column\n",
    "    \n",
    "    # Oridinal Encoding\n",
    "    categories_order = ['Low_Reviewer_Score', 'Intermediate_Reviewer_Score','High_Reviewer_Score']\n",
    "    # create an instance of OrdinalEncoder with the defined categories order\n",
    "    ordinal_encoder = OrdinalEncoder(categories=[categories_order])\n",
    "    # encode the data using the ordinal encoder (y_Train) \"Fit\" and \"Transform\"\n",
    "    y_train_encoded = ordinal_encoder.fit_transform(y_train.values.reshape(-1, 1))\n",
    "    y_train_encoded = pd.Series(y_train_encoded.reshape(-1), index= y_train.index)\n",
    "\n",
    "    return y_train_encoded,ordinal_encoder\n",
    "\n",
    "def data_encoding_Y_Test(y_test,ordinal_encoder):\n",
    "    \n",
    "    # encode the data using the ordinal encoder (y_Test) \"already Fitted\" just \"Transform\"\n",
    "    y_test_encoded = ordinal_encoder.transform(y_test.values.reshape(-1, 1))\n",
    "    y_test_encoded = pd.Series(y_test_encoded.reshape(-1), index= y_test.index)\n",
    "\n",
    "    return y_test_encoded"
   ]
  },
  {
   "cell_type": "markdown",
   "metadata": {
    "jp-MarkdownHeadingCollapsed": true,
    "tags": []
   },
   "source": [
    "## Scaling"
   ]
  },
  {
   "cell_type": "code",
   "execution_count": 5,
   "metadata": {
    "execution": {
     "iopub.execute_input": "2023-05-24T13:54:10.049547Z",
     "iopub.status.busy": "2023-05-24T13:54:10.049547Z",
     "iopub.status.idle": "2023-05-24T13:54:10.063533Z",
     "shell.execute_reply": "2023-05-24T13:54:10.063533Z",
     "shell.execute_reply.started": "2023-05-24T13:54:10.049547Z"
    },
    "tags": []
   },
   "outputs": [],
   "source": [
    "def standard(x,cols):\n",
    "    scaler = StandardScaler()\n",
    "    #cols=x.columns\n",
    "    x = scaler.fit_transform(x)  # calc mean and standard division\n",
    "    x = pd.DataFrame(x, columns= cols)\n",
    "    return x,scaler\n",
    "\n",
    "def norm(x,cols):\n",
    "    scaler = MinMaxScaler()\n",
    "    #cols=x.columns\n",
    "    scaler.fit_transform(x)  # calc X_max and X_min\n",
    "    # # X_norm = (X_old - X_min) / (X_max - X_min)\n",
    "    x = pd.DataFrame(x, columns= cols)\n",
    "    return x,scaler\n",
    "\n",
    "def scaling(x, IsTrain,IsStandard=None,scaler=None,cols=None):\n",
    "    if (IsTrain == True):\n",
    "        if (IsStandard == True):\n",
    "            x,scaler = standard(x,cols)\n",
    "        else:\n",
    "            x,scaler = norm(x,cols)        \n",
    "        return x,scaler\n",
    "    \n",
    "    else: # this is test\n",
    "        #cols = x.columns\n",
    "        x = scaler.transform(x)  # calc mean and standard division (Standard) Or calc X_max and X_min (Norm)\n",
    "        x = pd.DataFrame(x, columns= cols)\n",
    "        return x"
   ]
  },
  {
   "cell_type": "markdown",
   "metadata": {
    "jp-MarkdownHeadingCollapsed": true,
    "tags": []
   },
   "source": [
    "## Handle Outliers"
   ]
  },
  {
   "cell_type": "code",
   "execution_count": 6,
   "metadata": {
    "execution": {
     "iopub.execute_input": "2023-05-24T13:54:10.066283Z",
     "iopub.status.busy": "2023-05-24T13:54:10.066283Z",
     "iopub.status.idle": "2023-05-24T13:54:10.090121Z",
     "shell.execute_reply": "2023-05-24T13:54:10.088610Z",
     "shell.execute_reply.started": "2023-05-24T13:54:10.066283Z"
    }
   },
   "outputs": [],
   "source": [
    "def trimming(data, name, upper_limit, lower_limit):\n",
    "    update_data = data.loc[(data[name] <= upper_limit) & (data[name] >= lower_limit)]\n",
    "    return update_data\n",
    "\n",
    "def capping(data, name, upper_limit, lower_limit):\n",
    "    new_data = data.copy()\n",
    "    new_data.loc[data[name] > upper_limit, name] = upper_limit\n",
    "    new_data.loc[data[name] < lower_limit, name] = lower_limit\n",
    "    return new_data\n",
    "\n",
    "def IQR(data, type):\n",
    "    # method2 : IQR\n",
    "    n = len(data.columns)\n",
    "    for i in range(n):\n",
    "        name = data.columns[i]\n",
    "        q1 = data[name].quantile(0.25)\n",
    "        q3 = data[name].quantile(0.75)\n",
    "        iqr = q3 - q1\n",
    "        upper_limit = q3 + 1.5 * iqr\n",
    "        lower_limit = q1 - 1.5 * iqr\n",
    "        # rmoval function\n",
    "        if (type == 1):\n",
    "            data = capping(data, name, upper_limit, lower_limit)\n",
    "        elif (type == 2):\n",
    "            data = trimming(data, name, upper_limit, lower_limit)\n",
    "    return data\n",
    "\n",
    "def z_score(data, type):\n",
    "    n = len(data.columns)\n",
    "    for i in range(n):\n",
    "        name = data.columns[i]\n",
    "        upper_limit = data[name].mean() + 3 * data[name].std()\n",
    "        lower_limit = data[name].mean() - 3 * data[name].std()\n",
    "        # rmoval function\n",
    "        if (type == 1):\n",
    "            data = capping(data, name, upper_limit, lower_limit)\n",
    "        elif (type == 2):\n",
    "            data = trimming(data, name, upper_limit, lower_limit)\n",
    "    return data\n",
    "\n",
    "def percentile(data, type):\n",
    "    # method2 : IQR\n",
    "    n = len(data.columns)\n",
    "    for i in range(n):\n",
    "        name = data.columns[i]\n",
    "        upper_limit = data[name].quantile(0.99)\n",
    "        lower_limit = data[name].quantile(0.01)\n",
    "        # rmoval function\n",
    "        if (type == 1):\n",
    "            data = capping(data, name, upper_limit, lower_limit)\n",
    "        elif (type == 2):\n",
    "            data = trimming(data, name, upper_limit, lower_limit)\n",
    "    return data\n",
    "\n",
    "def handle_outliers(data, method, type):\n",
    "    if (method == 'iqr'):\n",
    "        data = IQR(data, type)\n",
    "    elif (method == 'p'):\n",
    "        data = percentile(data, type)\n",
    "    elif (method == 'z'):\n",
    "        data = z_score(data, type)\n",
    "    return data"
   ]
  },
  {
   "cell_type": "markdown",
   "metadata": {
    "jp-MarkdownHeadingCollapsed": true,
    "tags": []
   },
   "source": [
    "## Feature Selection "
   ]
  },
  {
   "cell_type": "code",
   "execution_count": 7,
   "metadata": {
    "execution": {
     "iopub.execute_input": "2023-05-24T13:54:10.090121Z",
     "iopub.status.busy": "2023-05-24T13:54:10.090121Z",
     "iopub.status.idle": "2023-05-24T13:54:10.106302Z",
     "shell.execute_reply": "2023-05-24T13:54:10.105191Z",
     "shell.execute_reply.started": "2023-05-24T13:54:10.090121Z"
    },
    "tags": []
   },
   "outputs": [],
   "source": [
    "from sklearn.feature_selection import VarianceThreshold\n",
    "\n",
    "def ANOVA_ftest(x, y):\n",
    "    fs = SelectKBest(score_func=f_classif, k=7)\n",
    "    # fs = SelectKBest(score_func=mutual_info_classif, k=4)\n",
    "    fs.fit(x, y.values.ravel())\n",
    "    # transform train input data\n",
    "    X_train_fs = fs.transform(x)\n",
    "    np.seterr(invalid='ignore')\n",
    "    for i in range(len(fs.scores_)):\n",
    "        print('Feature %d: %f' % (i, fs.scores_[i]))\n",
    "    selected_features = x.columns[fs.get_support()]\n",
    "    x = x[selected_features]\n",
    "    return x, y\n",
    "\n",
    "def feature_selection(x, y):\n",
    "    constant_filter = VarianceThreshold(threshold=0)\n",
    "\n",
    "    # Fit and transforming on train data\n",
    "    data_constant = constant_filter.fit_transform(x)\n",
    "\n",
    "    # Extracting all constant columns using get support function of our filter\n",
    "    constant_columns = [column for column in x.columns if column not in x.columns[constant_filter.get_support()]]\n",
    "    x = x.drop(constant_columns, axis=1)\n",
    "    qcons_filter = VarianceThreshold(threshold=0.01)\n",
    "\n",
    "    # Fit and transforming on train data\n",
    "    data_qcons = qcons_filter.fit_transform(x)\n",
    "\n",
    "    # Extracting all Quasi constant columns using get support function of our filter\n",
    "    qcons_columns = [column for column in x.columns if column not in x.columns[qcons_filter.get_support()]]\n",
    "    x = x.drop(qcons_columns, axis=1)\n",
    "\n",
    "    # check duplicated\n",
    "    '''data_qcons_t = x.T\n",
    "    data_qcons_t.shape\n",
    "    x = data_qcons_t.drop_duplicates(keep='first').T'''\n",
    "    # x = x.astype('int')\n",
    "    x, y = ANOVA_ftest(x, y)\n",
    "    return x, y"
   ]
  },
  {
   "cell_type": "markdown",
   "metadata": {
    "jp-MarkdownHeadingCollapsed": true,
    "tags": []
   },
   "source": [
    "# Save & Load Model"
   ]
  },
  {
   "cell_type": "code",
   "execution_count": 8,
   "metadata": {
    "execution": {
     "iopub.execute_input": "2023-05-24T13:54:10.106302Z",
     "iopub.status.busy": "2023-05-24T13:54:10.106302Z",
     "iopub.status.idle": "2023-05-24T13:54:10.121866Z",
     "shell.execute_reply": "2023-05-24T13:54:10.120669Z",
     "shell.execute_reply.started": "2023-05-24T13:54:10.106302Z"
    },
    "tags": []
   },
   "outputs": [],
   "source": [
    "def save_model(model, filename):\n",
    "    filename ='Models'+'/'+ filename\n",
    "    # Check if the file exists\n",
    "    if os.path.exists(filename):\n",
    "        # oberwrite the model to file\n",
    "        joblib.dump(model, filename)\n",
    "        print(f\"Model Overwrited to '{filename}'.\")\n",
    "    else:\n",
    "        # Save the model to file\n",
    "        joblib.dump(model, filename)\n",
    "        print(f\"Model saved to '{filename}'.\")\n",
    "\n",
    "def load_model(filename):\n",
    "    filename ='Models'+'/'+ filename\n",
    "    # Check if the file exists\n",
    "    if os.path.exists(filename):\n",
    "        # Load the model from file\n",
    "        model = joblib.load(filename)\n",
    "        print(f\"Model loaded from '{filename}'.\")\n",
    "        return model\n",
    "    else:\n",
    "        print(f\"File '{filename}' does not exist.\")\n",
    "        return None"
   ]
  },
  {
   "cell_type": "markdown",
   "metadata": {
    "execution": {
     "iopub.execute_input": "2023-05-21T05:58:22.795586Z",
     "iopub.status.busy": "2023-05-21T05:58:22.795586Z",
     "iopub.status.idle": "2023-05-21T05:58:22.809069Z",
     "shell.execute_reply": "2023-05-21T05:58:22.809069Z",
     "shell.execute_reply.started": "2023-05-21T05:58:22.795586Z"
    },
    "jp-MarkdownHeadingCollapsed": true,
    "tags": []
   },
   "source": [
    "# Accuracy & Scatter"
   ]
  },
  {
   "cell_type": "code",
   "execution_count": 9,
   "metadata": {
    "execution": {
     "iopub.execute_input": "2023-05-24T13:54:10.123218Z",
     "iopub.status.busy": "2023-05-24T13:54:10.123218Z",
     "iopub.status.idle": "2023-05-24T13:54:10.139830Z",
     "shell.execute_reply": "2023-05-24T13:54:10.138393Z",
     "shell.execute_reply.started": "2023-05-24T13:54:10.123218Z"
    },
    "tags": []
   },
   "outputs": [],
   "source": [
    "def Print_Accuracy(model,X_data,y_data,data_name,model_name):\n",
    "    print(\"--------------------------------------------------\")\n",
    "    # Use the classifier to make predictions on the test data\n",
    "    predictions = model.predict(X_data)\n",
    "    print(\"MSE : %f \" % (metrics.mean_squared_error(y_data, predictions)))\n",
    "    accuracy = r2_score(y_data , predictions)\n",
    "    print(f\"{model_name}: {data_name} accuracy: {accuracy:.2%}\")\n",
    "    print(\"--------------------------------------------------\")\n",
    "    return predictions\n",
    "\n",
    "def Display_Confusion_Matrix(y_data, predictions_data,model_name):\n",
    "    import matplotlib.pyplot as plt\n",
    "\n",
    "    # Assuming you have the predicted values in 'y_pred' and actual values in 'y_actual'\n",
    "    plt.scatter(y_data, predictions_data)\n",
    "    plt.xlabel(\"Actual Rating\")\n",
    "    plt.ylabel(\"Predicted Rating\")\n",
    "    plt.title(model_name)\n",
    "    plt.show()\n",
    "    return"
   ]
  },
  {
   "cell_type": "markdown",
   "metadata": {
    "jp-MarkdownHeadingCollapsed": true,
    "tags": []
   },
   "source": [
    "# Preprocess Train Data"
   ]
  },
  {
   "cell_type": "code",
   "execution_count": 10,
   "metadata": {
    "execution": {
     "iopub.execute_input": "2023-05-24T13:54:10.140929Z",
     "iopub.status.busy": "2023-05-24T13:54:10.140929Z",
     "iopub.status.idle": "2023-05-24T13:55:45.815644Z",
     "shell.execute_reply": "2023-05-24T13:55:45.814604Z",
     "shell.execute_reply.started": "2023-05-24T13:54:10.140929Z"
    },
    "tags": []
   },
   "outputs": [
    {
     "name": "stdout",
     "output_type": "stream",
     "text": [
      "Model Overwrited to 'Models/Mean List.pkl'.\n",
      "Model Overwrited to 'Models/Label Encoder.pkl'.\n",
      "Model Overwrited to 'Models/Filling Missing Values_Mean.pkl'.\n",
      "Model Overwrited to 'Models/Standard Scaler_x.pkl'.\n",
      "Model Overwrited to 'Models/Standard Scaler_y.pkl'.\n",
      "Feature 0: 14.274731\n",
      "Feature 1: 20.737067\n",
      "Feature 2: 1035.096130\n",
      "Feature 3: 14.296620\n",
      "Feature 4: 54.898651\n",
      "Feature 5: 1550.898276\n",
      "Feature 6: 40.075086\n",
      "Feature 7: 588.918189\n",
      "Feature 8: 58.590869\n",
      "Feature 9: 5.031268\n",
      "Feature 10: 9.926957\n",
      "Feature 11: 13.290827\n",
      "Feature 12: 549.698158\n",
      "Feature 13: 616.961448\n",
      "Feature 14: 5.717750\n",
      "Feature 15: 8.542988\n",
      "Feature 16: 1.020358\n",
      "Feature 17: 4.513317\n",
      "Feature 18: 5.032818\n",
      "Feature 19: 11.356244\n",
      "Feature 20: 25.724296\n",
      "Model Overwrited to 'Models/Train_Cols_Feature_Selection.pkl'.\n"
     ]
    }
   ],
   "source": [
    "# Apply Sentiment Analysis\n",
    "X_train = apply_sentiment(X_train)\n",
    "\n",
    "# Clean data and Handle missing values\n",
    "X_train,mean_list = data_cleaning_X_Train(X_train)\n",
    "save_model(mean_list, 'Mean List.pkl')\n",
    "\n",
    "# Encoding Some Features With Label Encoding\n",
    "X_train,le = data_encoding_X_Train(X_train)\n",
    "save_model(le, 'Label Encoder.pkl')\n",
    "\n",
    "#Drop 'Positive_Review' & 'Negative_Review' In X_Train\n",
    "X_train = X_train.drop(['Positive_Review'], axis=1)\n",
    "X_train = X_train.drop(['Negative_Review'], axis=1)\n",
    "\n",
    "# Handle Missing Value of The Reviewer_Score (y_train)  Regressor with Random Forset\n",
    "y_train,mean = data_cleaning_Y_Train(y_train)\n",
    "save_model(mean, 'Filling Missing Values_Mean.pkl')\n",
    "\n",
    "# Encoding The Reviewer_Score (y_train)  With Ordinal Encoder\n",
    "#y_train,ordinal_encoder = data_encoding_Y_Train(y_train)\n",
    "#save_model(ordinal_encoder, 'Ordinal Encoder.pkl')\n",
    "\n",
    "# Handle Outliers\n",
    "X_train = handle_outliers(X_train, 'iqr', 1)\n",
    "#y_train = handle_outliers(y_train.values.reshape(-1, 1), 'iqr', 1)\n",
    "\n",
    "#Scaling X_Train\n",
    "X_train,scaler_x=scaling(X_train,IsTrain=True, IsStandard=True,cols=X_train.columns) # First: True is X_train ,, Second: True -> is (Standard) or not -> (Norm)\n",
    "save_model(scaler_x, 'Standard Scaler_x.pkl')\n",
    "#Scaling y_Train\n",
    "y_train,scaler_y=scaling(y_train.values.reshape(-1, 1),IsTrain=True, IsStandard=True) # First: True is X_train ,, Second: True -> is (Standard) or not -> (Norm)\n",
    "y_train['Reviewer_Score']= y_train.iloc[:,0]\n",
    "y_train = y_train.iloc[:, 1]\n",
    "save_model(scaler_y, 'Standard Scaler_y.pkl')\n",
    "\n",
    "# select the most effiective Features\n",
    "X_train, y_train = feature_selection(X_train, y_train)\n",
    "y_train=y_train.values\n",
    "# reshape a 1D numpy array into a 2D numpy array. \n",
    "y_train = y_train[:, np.newaxis]\n",
    "save_model(X_train.columns, 'Train_Cols_Feature_Selection.pkl')"
   ]
  },
  {
   "cell_type": "markdown",
   "metadata": {
    "tags": []
   },
   "source": [
    "# Models"
   ]
  },
  {
   "cell_type": "markdown",
   "metadata": {
    "execution": {
     "iopub.execute_input": "2023-05-21T21:53:47.996151Z",
     "iopub.status.busy": "2023-05-21T21:53:47.996151Z",
     "iopub.status.idle": "2023-05-21T21:53:48.021189Z",
     "shell.execute_reply": "2023-05-21T21:53:48.021189Z",
     "shell.execute_reply.started": "2023-05-21T21:53:47.996151Z"
    },
    "tags": []
   },
   "source": [
    "## Linear Model"
   ]
  },
  {
   "cell_type": "code",
   "execution_count": 11,
   "metadata": {
    "execution": {
     "iopub.execute_input": "2023-05-24T13:55:45.815644Z",
     "iopub.status.busy": "2023-05-24T13:55:45.815644Z",
     "iopub.status.idle": "2023-05-24T13:55:45.830927Z",
     "shell.execute_reply": "2023-05-24T13:55:45.830927Z",
     "shell.execute_reply.started": "2023-05-24T13:55:45.815644Z"
    },
    "tags": []
   },
   "outputs": [
    {
     "data": {
      "text/plain": [
       "'\\nstart = t.perf_counter()\\nlinear = linear_model.LinearRegression().fit(X_train,y_train)\\nend = t.perf_counter()\\nprint(\"Linear_Regression Model Time  : \" + str(end - start) + \" sec\")\\n\\n\\n# Save model to file\\nsave_model(linear, \\'Linear_Regression.pkl\\')\\n\\n# Calculate accuracy on train data\\n#predictions_train=Print_Accuracy(linear,X_train,y_train,data_name=\"train\",\"Linear_Regression\")\\n\\n# Compute the confusion matrix (Test) \\n#Display_Confusion_Matrix(y_data= y_train, predictions_data= predictions_train ,model_name= \"Linear_Regression Model\")\\n'"
      ]
     },
     "execution_count": 11,
     "metadata": {},
     "output_type": "execute_result"
    }
   ],
   "source": [
    "'''\n",
    "start = t.perf_counter()\n",
    "linear = linear_model.LinearRegression().fit(X_train,y_train)\n",
    "end = t.perf_counter()\n",
    "print(\"Linear_Regression Model Time  : \" + str(end - start) + \" sec\")\n",
    "\n",
    "\n",
    "# Save model to file\n",
    "save_model(linear, 'Linear_Regression.pkl')\n",
    "\n",
    "# Calculate accuracy on train data\n",
    "#predictions_train=Print_Accuracy(linear,X_train,y_train,data_name=\"train\",\"Linear_Regression\")\n",
    "\n",
    "# Compute the confusion matrix (Test) \n",
    "#Display_Confusion_Matrix(y_data= y_train, predictions_data= predictions_train ,model_name= \"Linear_Regression Model\")\n",
    "'''"
   ]
  },
  {
   "cell_type": "markdown",
   "metadata": {},
   "source": [
    "## Lasso model"
   ]
  },
  {
   "cell_type": "code",
   "execution_count": 12,
   "metadata": {
    "execution": {
     "iopub.execute_input": "2023-05-24T13:55:45.830927Z",
     "iopub.status.busy": "2023-05-24T13:55:45.830927Z",
     "iopub.status.idle": "2023-05-24T13:55:45.848361Z",
     "shell.execute_reply": "2023-05-24T13:55:45.847354Z",
     "shell.execute_reply.started": "2023-05-24T13:55:45.830927Z"
    }
   },
   "outputs": [
    {
     "data": {
      "text/plain": [
       "'\\nstart = t.perf_counter()\\nlasso = Lasso(alpha=0.01).fit(X_train, y_train)\\n#lasso = load_model(\\'Lasso.pkl\\')\\nend = t.perf_counter()\\nprint(\"Lasso Model Time  : \" + str(end - start) + \" sec\")\\n\\n\\n# Save model to file\\nsave_model(lasso, \\'Lasso.pkl\\')\\n\\n# Calculate accuracy on train data\\n#predictions_train=Print_Accuracy(lasso,X_train,y_train,data_name=\"train\")\\n\\n# Compute the confusion matrix (Test) \\n#Display_Confusion_Matrix(y_data= y_train, predictions_data= predictions_train ,model_name= \"Lasso Model\")\\n'"
      ]
     },
     "execution_count": 12,
     "metadata": {},
     "output_type": "execute_result"
    }
   ],
   "source": [
    "'''\n",
    "start = t.perf_counter()\n",
    "lasso = Lasso(alpha=0.01).fit(X_train, y_train)\n",
    "#lasso = load_model('Lasso.pkl')\n",
    "end = t.perf_counter()\n",
    "print(\"Lasso Model Time  : \" + str(end - start) + \" sec\")\n",
    "\n",
    "\n",
    "# Save model to file\n",
    "save_model(lasso, 'Lasso.pkl')\n",
    "\n",
    "# Calculate accuracy on train data\n",
    "#predictions_train=Print_Accuracy(lasso,X_train,y_train,data_name=\"train\")\n",
    "\n",
    "# Compute the confusion matrix (Test) \n",
    "#Display_Confusion_Matrix(y_data= y_train, predictions_data= predictions_train ,model_name= \"Lasso Model\")\n",
    "'''"
   ]
  },
  {
   "cell_type": "markdown",
   "metadata": {
    "tags": []
   },
   "source": [
    "## Polynomial Model"
   ]
  },
  {
   "cell_type": "raw",
   "metadata": {
    "execution": {
     "iopub.execute_input": "2023-05-24T12:44:06.146378Z",
     "iopub.status.busy": "2023-05-24T12:44:06.145393Z",
     "iopub.status.idle": "2023-05-24T12:44:09.527275Z",
     "shell.execute_reply": "2023-05-24T12:44:09.526274Z",
     "shell.execute_reply.started": "2023-05-24T12:44:06.146378Z"
    },
    "tags": []
   },
   "source": [
    "poly_features = PolynomialFeatures(degree=6)\n",
    "X_train_poly = poly_features.fit_transform(X_train)\n",
    "# Save model to file\n",
    "save_model(poly_features, 'poly_features.pkl')\n",
    "\n",
    "start = t.perf_counter()\n",
    "Polynomial_model = linear_model.LinearRegression().fit(X_train_poly, y_train)\n",
    "#Polynomial_model = load_model('Polynomial.pkl')\n",
    "end = t.perf_counter()\n",
    "print(\"Polynomial Model Time  : \" + str(end - start) + \" sec\")\n",
    "\n",
    "\n",
    "# Save model to file\n",
    "save_model(Polynomial_model, 'Polynomial.pkl')\n",
    "\n",
    "# Calculate accuracy on train data\n",
    "predictions_train=Print_Accuracy(Polynomial_model,X_train_poly,y_train,data_name=\"train\",model_name=\"Polynomial Model\")\n",
    "\n",
    "# Compute the confusion matrix (Test) \n",
    "Display_Confusion_Matrix(y_data= y_train, predictions_data= predictions_train ,model_name= \"Polynomial Model\")"
   ]
  },
  {
   "cell_type": "markdown",
   "metadata": {},
   "source": [
    "## Ridge Model"
   ]
  },
  {
   "cell_type": "raw",
   "metadata": {},
   "source": [
    "start = t.perf_counter()\n",
    "ridge = Ridge(alpha=0.01).fit(X_train, y_train)\n",
    "end = t.perf_counter()\n",
    "print(\"Ridge Model Time  : \" + str(end - start) + \" sec\")\n",
    "\n",
    "\n",
    "# Save model to file\n",
    "save_model(ridge, 'ridge.pkl')\n",
    "\n",
    "# Calculate accuracy on train data\n",
    "predictions_train=Print_Accuracy(ridge,X_train,y_train,data_name=\"train\")\n",
    "\n",
    "# Compute the confusion matrix (Test) \n",
    "Display_Confusion_Matrix(y_data= y_train, predictions_data= predictions_train ,model_name= \"Ridge Model\")"
   ]
  },
  {
   "cell_type": "markdown",
   "metadata": {},
   "source": [
    "## DecisionTreeRegressor Model"
   ]
  },
  {
   "cell_type": "raw",
   "metadata": {
    "execution": {
     "iopub.execute_input": "2023-05-23T22:12:11.019117Z",
     "iopub.status.busy": "2023-05-23T22:12:11.019117Z",
     "iopub.status.idle": "2023-05-23T22:12:13.612907Z",
     "shell.execute_reply": "2023-05-23T22:12:13.611908Z",
     "shell.execute_reply.started": "2023-05-23T22:12:11.019117Z"
    },
    "tags": []
   },
   "source": [
    "from sklearn.tree import DecisionTreeRegressor\n",
    "\n",
    "start = t.perf_counter()\n",
    "DecisionTreeRegressor_model = DecisionTreeRegressor(max_depth=100).fit(X_train, y_train)\n",
    "end = t.perf_counter()\n",
    "print(\"DecisionTreeRegressor Model Time  : \" + str(end - start) + \" sec\")\n",
    "\n",
    "\n",
    "# Save model to file\n",
    "save_model(DecisionTreeRegressor_model, 'DecisionTreeRegressor_model.pkl')\n",
    "\n",
    "# Calculate accuracy on train data\n",
    "predictions_train=Print_Accuracy(DecisionTreeRegressor_model,X_train,y_train,data_name=\"train\")\n",
    "\n",
    "# Compute the confusion matrix (Test) \n",
    "Display_Confusion_Matrix(y_data= y_train, predictions_data= predictions_train ,model_name= \"DecisionTreeRegressor Model\")"
   ]
  },
  {
   "cell_type": "markdown",
   "metadata": {},
   "source": [
    "## RandomForestRegressor Model"
   ]
  },
  {
   "cell_type": "code",
   "execution_count": 13,
   "metadata": {
    "execution": {
     "iopub.execute_input": "2023-05-24T13:55:45.848361Z",
     "iopub.status.busy": "2023-05-24T13:55:45.848361Z",
     "iopub.status.idle": "2023-05-24T13:55:45.863437Z",
     "shell.execute_reply": "2023-05-24T13:55:45.863437Z",
     "shell.execute_reply.started": "2023-05-24T13:55:45.848361Z"
    }
   },
   "outputs": [
    {
     "data": {
      "text/plain": [
       "'\\nfrom sklearn.ensemble import RandomForestRegressor\\n\\nstar = t.perf_counter()\\nRandomForestRegressor_model = RandomForestRegressor(n_estimators=50, max_depth=100).fit(X_train, y_train.ravel())\\nend = t.perf_counter()\\nprint(\"RandomForestRegressor Model Time  : \" + str(end - start) + \" sec\")\\n\\n\\n# Save model to file\\nsave_model(RandomForestRegressor_model, \\'RandomForestRegressor.pkl\\')\\n\\n# Calculate accuracy on train data\\n#predictions_train=Print_Accuracy(RandomForestRegressor_model,X_train,y_train,data_name=\"train\")\\n\\n# Compute the confusion matrix (Test) \\n#Display_Confusion_Matrix(y_data= y_train, predictions_data= predictions_train ,model_name= \"RandomForestRegressor Model\")\\n'"
      ]
     },
     "execution_count": 13,
     "metadata": {},
     "output_type": "execute_result"
    }
   ],
   "source": [
    "'''\n",
    "from sklearn.ensemble import RandomForestRegressor\n",
    "\n",
    "star = t.perf_counter()\n",
    "RandomForestRegressor_model = RandomForestRegressor(n_estimators=50, max_depth=100).fit(X_train, y_train.ravel())\n",
    "end = t.perf_counter()\n",
    "print(\"RandomForestRegressor Model Time  : \" + str(end - start) + \" sec\")\n",
    "\n",
    "\n",
    "# Save model to file\n",
    "save_model(RandomForestRegressor_model, 'RandomForestRegressor.pkl')\n",
    "\n",
    "# Calculate accuracy on train data\n",
    "#predictions_train=Print_Accuracy(RandomForestRegressor_model,X_train,y_train,data_name=\"train\")\n",
    "\n",
    "# Compute the confusion matrix (Test) \n",
    "#Display_Confusion_Matrix(y_data= y_train, predictions_data= predictions_train ,model_name= \"RandomForestRegressor Model\")\n",
    "'''"
   ]
  },
  {
   "cell_type": "markdown",
   "metadata": {},
   "source": [
    "## XGBRegressor Model"
   ]
  },
  {
   "cell_type": "code",
   "execution_count": 14,
   "metadata": {
    "execution": {
     "iopub.execute_input": "2023-05-24T13:55:45.863437Z",
     "iopub.status.busy": "2023-05-24T13:55:45.863437Z",
     "iopub.status.idle": "2023-05-24T13:55:45.879513Z",
     "shell.execute_reply": "2023-05-24T13:55:45.879513Z",
     "shell.execute_reply.started": "2023-05-24T13:55:45.863437Z"
    },
    "tags": []
   },
   "outputs": [
    {
     "data": {
      "text/plain": [
       "'\\nfrom xgboost import XGBRegressor\\nstar = t.perf_counter()\\nxgb = XGBRegressor(n_estimators=100,max_depth=3,learning_rate=0.1,random_state=42).fit(X_train, y_train)\\nend = t.perf_counter()\\nprint(\"XGBRegressor Model Time  : \" + str(end - start) + \" sec\")\\n\\n# Save model to file\\nsave_model(xgb, \\'XGBRegressor.pkl\\')\\n\\n# Calculate accuracy on train data\\n#predictions_train=Print_Accuracy(xgb,X_train,y_train,data_name=\"train\")\\n\\n# Compute the confusion matrix (Test) \\n#Display_Confusion_Matrix(y_data= y_train, predictions_data= predictions_train ,model_name= \"XGBRegressor Model\")\\n'"
      ]
     },
     "execution_count": 14,
     "metadata": {},
     "output_type": "execute_result"
    }
   ],
   "source": [
    "'''\n",
    "from xgboost import XGBRegressor\n",
    "star = t.perf_counter()\n",
    "xgb = XGBRegressor(n_estimators=100,max_depth=3,learning_rate=0.1,random_state=42).fit(X_train, y_train)\n",
    "end = t.perf_counter()\n",
    "print(\"XGBRegressor Model Time  : \" + str(end - start) + \" sec\")\n",
    "\n",
    "# Save model to file\n",
    "save_model(xgb, 'XGBRegressor.pkl')\n",
    "\n",
    "# Calculate accuracy on train data\n",
    "#predictions_train=Print_Accuracy(xgb,X_train,y_train,data_name=\"train\")\n",
    "\n",
    "# Compute the confusion matrix (Test) \n",
    "#Display_Confusion_Matrix(y_data= y_train, predictions_data= predictions_train ,model_name= \"XGBRegressor Model\")\n",
    "'''"
   ]
  },
  {
   "cell_type": "markdown",
   "metadata": {
    "tags": []
   },
   "source": [
    "## KNeighborsRegressor"
   ]
  },
  {
   "cell_type": "raw",
   "metadata": {
    "tags": []
   },
   "source": [
    "from sklearn.neighbors import KNeighborsRegressor\n",
    "\n",
    "star = t.perf_counter()\n",
    "knn_regressor = KNeighborsRegressor(n_neighbors=5).fit(X_train, y_train)\n",
    "end = t.perf_counter()\n",
    "\n",
    "print(\"KNeighborsRegressor Model Time  : \" + str(end - start) + \" sec\")\n",
    "\n",
    "# Save model to file\n",
    "save_model(knn_regressor, 'KNeighborsRegressor.pkl')\n",
    "\n",
    "# Calculate accuracy on train data\n",
    "predictions_train=Print_Accuracy(knn_regressor,X_train,y_train,data_name=\"train\")\n",
    "\n",
    "# Compute the confusion matrix (Test) \n",
    "Display_Confusion_Matrix(y_data= y_train, predictions_data= predictions_train ,model_name= \"KNeighborsRegressor Model\")\n"
   ]
  },
  {
   "cell_type": "markdown",
   "metadata": {},
   "source": [
    "## LGBMRegressor Model"
   ]
  },
  {
   "cell_type": "code",
   "execution_count": 15,
   "metadata": {
    "execution": {
     "iopub.execute_input": "2023-05-24T13:55:45.879513Z",
     "iopub.status.busy": "2023-05-24T13:55:45.879513Z",
     "iopub.status.idle": "2023-05-24T13:55:45.895556Z",
     "shell.execute_reply": "2023-05-24T13:55:45.895556Z",
     "shell.execute_reply.started": "2023-05-24T13:55:45.879513Z"
    },
    "tags": []
   },
   "outputs": [
    {
     "data": {
      "text/plain": [
       "'\\nimport lightgbm as lgb\\n# Create a LightGBM Regression model\\nparams = {\\n    \\'objective\\': \\'regression\\',\\n    \\'metric\\': \\'mse\\',\\n    \\'num_leaves\\': 31,zd\\n    \\'learning_rate\\': 0.05,\\n    \\'feature_fraction\\': 0.9\\n}\\nstar = t.perf_counter()\\nLightGBM_regressor = lgb.LGBMRegressor(**params).fit(X_train, y_train.ravel())\\nend = t.perf_counter()\\n\\nprint(\"LGBMRegressor Model Time  : \" + str(end - start) + \" sec\")\\n\\n# Save model to file\\nsave_model(LightGBM_regressor, \\'LGBMRegressor.pkl\\')\\n\\n# Calculate accuracy on train data\\n#predictions_train=Print_Accuracy(LightGBM_regressor,X_train,y_train,data_name=\"train\")\\n\\n# Compute the confusion matrix (Test) \\n#Display_Confusion_Matrix(y_data= y_train, predictions_data= predictions_train ,model_name= \"LGBMRegressor Model\")\\n'"
      ]
     },
     "execution_count": 15,
     "metadata": {},
     "output_type": "execute_result"
    }
   ],
   "source": [
    "'''\n",
    "import lightgbm as lgb\n",
    "# Create a LightGBM Regression model\n",
    "params = {\n",
    "    'objective': 'regression',\n",
    "    'metric': 'mse',\n",
    "    'num_leaves': 31,zd\n",
    "    'learning_rate': 0.05,\n",
    "    'feature_fraction': 0.9\n",
    "}\n",
    "star = t.perf_counter()\n",
    "LightGBM_regressor = lgb.LGBMRegressor(**params).fit(X_train, y_train.ravel())\n",
    "end = t.perf_counter()\n",
    "\n",
    "print(\"LGBMRegressor Model Time  : \" + str(end - start) + \" sec\")\n",
    "\n",
    "# Save model to file\n",
    "save_model(LightGBM_regressor, 'LGBMRegressor.pkl')\n",
    "\n",
    "# Calculate accuracy on train data\n",
    "#predictions_train=Print_Accuracy(LightGBM_regressor,X_train,y_train,data_name=\"train\")\n",
    "\n",
    "# Compute the confusion matrix (Test) \n",
    "#Display_Confusion_Matrix(y_data= y_train, predictions_data= predictions_train ,model_name= \"LGBMRegressor Model\")\n",
    "'''"
   ]
  },
  {
   "cell_type": "markdown",
   "metadata": {},
   "source": [
    "## ElasticNetElasticNet Model"
   ]
  },
  {
   "cell_type": "raw",
   "metadata": {
    "execution": {
     "iopub.execute_input": "2023-05-24T13:55:45.898563Z",
     "iopub.status.busy": "2023-05-24T13:55:45.898563Z",
     "iopub.status.idle": "2023-05-24T13:55:46.425695Z",
     "shell.execute_reply": "2023-05-24T13:55:46.425695Z",
     "shell.execute_reply.started": "2023-05-24T13:55:45.898563Z"
    },
    "tags": []
   },
   "source": [
    "from sklearn.linear_model import ElasticNet\n",
    "star = t.perf_counter()\n",
    "ElasticNet_regressor = ElasticNet(alpha=0.1, l1_ratio=0.5).fit(X_train, y_train)\n",
    "end = t.perf_counter()\n",
    "\n",
    "print(\"ElasticNet_regressor Model Time  : \" + str(end - start) + \" sec\")\n",
    "\n",
    "# Save model to file\n",
    "save_model(ElasticNet_regressor, 'ElasticNet_regressor.pkl')\n",
    "\n",
    "# Calculate accuracy on train data\n",
    "#predictions_train=Print_Accuracy(ElasticNet_regressor,X_train,y_train,data_name=\"train\")\n",
    "\n",
    "# Compute the confusion matrix (Test) \n",
    "#Display_Confusion_Matrix(y_data= y_train, predictions_data= predictions_train ,model_name= \"ElasticNet_regressor Model\")"
   ]
  },
  {
   "cell_type": "markdown",
   "metadata": {
    "tags": []
   },
   "source": [
    "# Test Script"
   ]
  },
  {
   "cell_type": "markdown",
   "metadata": {
    "tags": []
   },
   "source": [
    "## Preparing The Test"
   ]
  },
  {
   "cell_type": "code",
   "execution_count": 17,
   "metadata": {
    "execution": {
     "iopub.execute_input": "2023-05-24T13:59:43.734872Z",
     "iopub.status.busy": "2023-05-24T13:59:43.734872Z",
     "iopub.status.idle": "2023-05-24T13:59:44.454456Z",
     "shell.execute_reply": "2023-05-24T13:59:44.454456Z",
     "shell.execute_reply.started": "2023-05-24T13:59:43.734872Z"
    },
    "tags": []
   },
   "outputs": [
    {
     "name": "stdout",
     "output_type": "stream",
     "text": [
      "Model loaded from 'Models/Mean List.pkl'.\n",
      "Model loaded from 'Models/Label Encoder.pkl'.\n",
      "Model loaded from 'Models/Filling Missing Values_Mean.pkl'.\n",
      "Model loaded from 'Models/Standard Scaler_x.pkl'.\n",
      "Model loaded from 'Models/Standard Scaler_y.pkl'.\n",
      "Model loaded from 'Models/Train_Cols_Feature_Selection.pkl'.\n"
     ]
    }
   ],
   "source": [
    "# Read The Test Data\n",
    "test_data = pd.read_csv('hotel-tas-test-regression.csv')\n",
    "\n",
    "# set test_X & test_Y\n",
    "y_test = test_data.iloc[:, 16]\n",
    "X_test = test_data.iloc[:, 0:16]\n",
    "\n",
    "\n",
    "# Apply Sentiment Analysis\n",
    "X_test = apply_sentiment(X_test)\n",
    "\n",
    "# Clean data and Handle missing values\n",
    "load_mean_list= load_model('Mean List.pkl')\n",
    "X_test = data_cleaning_X_Test(X_test,load_mean_list)\n",
    "\n",
    "\n",
    "# Encoding Some Features With Label Encoding\n",
    "load_le= load_model('Label Encoder.pkl')\n",
    "X_test = data_encoding_X_Test(X_test,load_le)\n",
    "\n",
    "\n",
    "#Drop 'Positive_Review' & 'Negative_Review' In X_Test\n",
    "X_test = X_test.drop(['Positive_Review'], axis=1)\n",
    "X_test = X_test.drop(['Negative_Review'], axis=1)\n",
    "\n",
    "# Handle Missing Value of The Reviewer_Score  (y_test) Classifier with \n",
    "load_missing_mean= load_model('Filling Missing Values_Mean.pkl')\n",
    "y_test = data_cleaning_Y_Test(y_test,load_missing_mean)\n",
    "\n",
    "# Encoding The Reviewer_Score  (y_test) With Ordinal Encoder\n",
    "#load_ordinal_encoder= load_model('Ordinal Encoder.pkl')\n",
    "#y_test = data_encoding_Y_Test(y_test,load_ordinal_encoder)\n",
    "\n",
    "# Handle Outliers\n",
    "#X_test = handle_outliers(X_test, 'iqr', 1)\n",
    "#y_test = handle_outliers(y_test, 'iqr', 1)\n",
    "\n",
    "#Scaling X_Test\n",
    "load_scaler_x= load_model('Standard Scaler_x.pkl')\n",
    "X_test=scaling(X_test,IsTrain= False,scaler= load_scaler_x,cols= X_test.columns) # False is X_test..\n",
    "#Scaling y_Test\n",
    "load_scaler_y= load_model('Standard Scaler_y.pkl')\n",
    "y_test=scaling(y_test.values.reshape(-1, 1),IsTrain= False,scaler= load_scaler_y) # False is y_test..\n",
    "y_test['Reviewer_Score']= y_test.iloc[:,0]\n",
    "y_test = y_test.iloc[:, 1]\n",
    "\n",
    "\n",
    "# get column names of X_train\n",
    "#train_cols = X_train.columns\n",
    "train_cols = load_model('Train_Cols_Feature_Selection.pkl')\n",
    "\n",
    "# select only the columns present in X_train in X_test\n",
    "X_test = X_test.loc[:, train_cols]"
   ]
  },
  {
   "cell_type": "markdown",
   "metadata": {
    "tags": []
   },
   "source": [
    "## Calculate Accuracy On (Test)"
   ]
  },
  {
   "cell_type": "code",
   "execution_count": 18,
   "metadata": {
    "execution": {
     "iopub.execute_input": "2023-05-24T13:59:44.454456Z",
     "iopub.status.busy": "2023-05-24T13:59:44.454456Z",
     "iopub.status.idle": "2023-05-24T13:59:47.094188Z",
     "shell.execute_reply": "2023-05-24T13:59:47.094188Z",
     "shell.execute_reply.started": "2023-05-24T13:59:44.454456Z"
    },
    "tags": []
   },
   "outputs": [
    {
     "name": "stdout",
     "output_type": "stream",
     "text": [
      "Model loaded from 'Models/Linear_Regression.pkl'.\n",
      "Model loaded from 'Models/Lasso.pkl'.\n",
      "File 'Models/ridge.pkl' does not exist.\n",
      "Model loaded from 'Models/RandomForestRegressor.pkl'.\n",
      "Model loaded from 'Models/XGBRegressor.pkl'.\n",
      "File 'Models/KNeighborsRegressor.pkl' does not exist.\n",
      "Model loaded from 'Models/LGBMRegressor.pkl'.\n",
      "Model loaded from 'Models/ElasticNet_regressor.pkl'.\n",
      "File 'Models/adaboost_regressor.pkl' does not exist.\n",
      "File 'Models/quantile_reg.pkl' does not exist.\n",
      "File 'Models/Bayesian_regressor.pkl' does not exist.\n",
      "--------------------------------------------------\n",
      "MSE : 0.626905 \n",
      "RandomForestRegressor Model: test accuracy: 39.33%\n",
      "--------------------------------------------------\n"
     ]
    },
    {
     "data": {
      "image/png": "[encoded data removed]",
      "text/plain": [
       "<Figure size 640x480 with 1 Axes>"
      ]
     },
     "metadata": {},
     "output_type": "display_data"
    },
    {
     "name": "stdout",
     "output_type": "stream",
     "text": [
      "--------------------------------------------------\n",
      "MSE : 0.546884 \n",
      "XGBRegressor Model: test accuracy: 47.07%\n",
      "--------------------------------------------------\n"
     ]
    },
    {
     "data": {
      "image/png": "[encoded data removed]",
      "text/plain": [
       "<Figure size 640x480 with 1 Axes>"
      ]
     },
     "metadata": {},
     "output_type": "display_data"
    },
    {
     "name": "stdout",
     "output_type": "stream",
     "text": [
      "--------------------------------------------------\n",
      "MSE : 0.547650 \n",
      "LGBMRegressor Model: test accuracy: 47.00%\n",
      "--------------------------------------------------\n"
     ]
    },
    {
     "data": {
      "image/png": "[encoded data removed]",
      "text/plain": [
       "<Figure size 640x480 with 1 Axes>"
      ]
     },
     "metadata": {},
     "output_type": "display_data"
    }
   ],
   "source": [
    "# Load the models\n",
    "loaded_lr = load_model('Linear_Regression.pkl')\n",
    "load_lasso = load_model('Lasso.pkl')\n",
    "\n",
    "#loaded_poly= load_model('Polynomial.pkl')\n",
    "#load_poly_features= load_model('poly_features.pkl')\n",
    "#X_test_poly= load_poly_features.transform(X_test)\n",
    "\n",
    "loaded_ridge = load_model('ridge.pkl')\n",
    "#loaded_dt = load_model('DecisionTreeRegressor_model.pkl')\n",
    "load_rf = load_model('RandomForestRegressor.pkl')\n",
    "loaded_xgb= load_model('XGBRegressor.pkl')\n",
    "loaded_kn = load_model('KNeighborsRegressor.pkl')\n",
    "loaded_lgb = load_model('LGBMRegressor.pkl')\n",
    "load_er = load_model('ElasticNet_regressor.pkl')\n",
    "loaded_adb= load_model('adaboost_regressor.pkl')\n",
    "loaded_qr = load_model('quantile_reg.pkl')\n",
    "loaded_br = load_model('Bayesian_regressor.pkl')\n",
    "\n",
    "\n",
    "# Calculate accuracy on test data && Confusion_Matrix\n",
    "\n",
    "#predictions_test=Print_Accuracy(loaded_lr,X_test,y_test,data_name=\"test\",model_name=\"Linear_Regression Model\")\n",
    "#Display_Confusion_Matrix(y_data= y_test, predictions_data= predictions_test ,model_name= \"Linear_Regression Model\")\n",
    "\n",
    "#predictions_test=Print_Accuracy(load_lasso,X_test,y_test,data_name=\"test\",model_name=\"Lasso Model\")\n",
    "#Display_Confusion_Matrix(y_data= y_test, predictions_data= predictions_test ,model_name= \"Lasso Model\")\n",
    "\n",
    "#predictions_test=Print_Accuracy(loaded_poly,X_test_poly,y_test,data_name=\"test\",model_name=\"Polynomial Model\")\n",
    "#Display_Confusion_Matrix(y_data= y_test, predictions_data= predictions_test ,model_name= \"Polynomial Model\")\n",
    "\n",
    "#predictions_test=Print_Accuracy(loaded_ridge,X_test,y_test,data_name=\"test\")\n",
    "#Display_Confusion_Matrix(y_data= y_test, predictions_data= predictions_test ,model_name= \"ridge Model\")\n",
    "\n",
    "#predictions_test=Print_Accuracy(loaded_dt,X_test,y_test,data_name=\"test\")\n",
    "#Display_Confusion_Matrix(y_data= y_test, predictions_data= predictions_test ,model_name= \"DecisionTreeRegressor Model\")\n",
    "\n",
    "predictions_test=Print_Accuracy(load_rf,X_test,y_test,data_name=\"test\",model_name=\"RandomForestRegressor Model\")\n",
    "Display_Confusion_Matrix(y_data= y_test, predictions_data= predictions_test ,model_name= \"RandomForestRegressor Model\")\n",
    "\n",
    "predictions_test=Print_Accuracy(loaded_xgb,X_test,y_test,data_name=\"test\",model_name=\"XGBRegressor Model\")\n",
    "Display_Confusion_Matrix(y_data= y_test, predictions_data= predictions_test ,model_name= \"XGBRegressor Model\")\n",
    "\n",
    "#predictions_test=Print_Accuracy(loaded_kn,X_test,y_test,data_name=\"test\")\n",
    "#Display_Confusion_Matrix(y_data= y_test, predictions_data= predictions_test ,model_name= \"KNeighborsRegressor Model\")\n",
    "\n",
    "predictions_test=Print_Accuracy(loaded_lgb,X_test,y_test,data_name=\"test\",model_name=\"LGBMRegressor Model\")\n",
    "Display_Confusion_Matrix(y_data= y_test, predictions_data= predictions_test ,model_name= \"LGBMRegressor Model\")\n",
    "\n",
    "#predictions_test=Print_Accuracy(load_er,X_test,y_test,data_name=\"test\",model_name=\"ElasticNet_regressor Model\")\n",
    "#Display_Confusion_Matrix(y_data= y_test, predictions_data= predictions_test ,model_name= \"ElasticNet_regressor Model\")\n",
    "\n",
    "\n"
   ]
  },
  {
   "cell_type": "code",
   "execution_count": null,
   "metadata": {},
   "outputs": [],
   "source": []
  }
 ],
 "metadata": {
  "kernelspec": {
   "display_name": "Python 3 (ipykernel)",
   "language": "python",
   "name": "python3"
  },
  "language_info": {
   "codemirror_mode": {
    "name": "ipython",
    "version": 3
   },
   "file_extension": ".py",
   "mimetype": "text/x-python",
   "name": "python",
   "nbconvert_exporter": "python",
   "pygments_lexer": "ipython3",
   "version": "3.10.9"
  }
 },
 "nbformat": 4,
 "nbformat_minor": 4
}
